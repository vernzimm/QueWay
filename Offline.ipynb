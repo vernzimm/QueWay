{
 "cells": [
  {
   "cell_type": "code",
   "execution_count": 7,
   "metadata": {},
   "outputs": [
    {
     "name": "stdout",
     "output_type": "stream",
     "text": [
      "Offline path \"C:\\Users\\vernz\\Desktop\\QueWay\\Offline\\\" already exists.\n",
      "\n"
     ]
    }
   ],
   "source": [
    "#QueWay responder for offline testing\n",
    "\n",
    "import os\n",
    "import time\n",
    "import pandas as pd\n",
    "import numpy as np\n",
    "\n",
    "qwdir = os.getcwd() + '\\\\Offline\\\\'\n",
    "\n",
    "try :\n",
    "    a = os.path.exists(qwdir)\n",
    "except :\n",
    "    print('Checking if \\\"' + qwdir + '\\\" exists failed!\\n')\n",
    "    exit()\n",
    "\n",
    "if a :\n",
    "    print('Offline path \\\"' + qwdir + '\\\" already exists.\\n')\n",
    "else :\n",
    "    try :\n",
    "        os.makedirs(qwdir)\n",
    "    except :\n",
    "        print('Creating offline path \\\"' + qwdir + '\\\" failed!\\n')\n",
    "        exit()\n",
    "    else :\n",
    "        print('Created offline path \\\"' + qwdir + '\\\".\\n')\n",
    "\n",
    "rask = qwdir + 'REMOTE.ASK'\n",
    "rans = qwdir + 'REMOTE.ANS'\n",
    "rmsg = qwdir + 'REMOTE.MSG'\n",
    "\n",
    "proglistnames = ['program','base_path','folder','img']\n",
    "proglist = pd.DataFrame(columns = proglistnames)\n",
    "\n",
    "os.system(\"python ./RMFunc.py\")\n",
    "from RMFunc import *\n",
    "os.system(\"python ./MiscFunc.py\")\n",
    "from MiscFunc import *\n",
    "\n",
    "#status = '','HELP','GET_DIR_LIST','CHANGE_PART_DIR','GET_PART_LIST3','EXECUTE_PATH_PART_PROGRAM','GENMSG'"
   ]
  },
  {
   "cell_type": "code",
   "execution_count": null,
   "metadata": {},
   "outputs": [],
   "source": [
    "status = ''\n",
    "\n",
    "def do_comm() :\n",
    "    \n",
    "    if status == '' :\n",
    "        ask = read_file(rask,True)\n",
    "        if len(ask) != 0 :\n",
    "            status = str(ask[0])\n",
    "    \n",
    "    elif status == 'HELP' :\n",
    "        msg = ['OFFLINE','HELP','REPLY']\n",
    "        write_file(msg,rans,True)\n",
    "        status = ''\n",
    "        \n",
    "    elif status == 'GET_DIR_LIST' :\n",
    "        msg = [qwdir]\n",
    "    return()\n",
    "    \n",
    "\n",
    "def wait_loop() :\n",
    "    do_comm() \n",
    "    time.sleep(0.2)\n",
    "    wait_loop()"
   ]
  },
  {
   "cell_type": "code",
   "execution_count": null,
   "metadata": {},
   "outputs": [],
   "source": [
    "wait_loop()"
   ]
  }
 ],
 "metadata": {
  "kernelspec": {
   "display_name": "Python 3",
   "language": "python",
   "name": "python3"
  },
  "language_info": {
   "codemirror_mode": {
    "name": "ipython",
    "version": 3
   },
   "file_extension": ".py",
   "mimetype": "text/x-python",
   "name": "python",
   "nbconvert_exporter": "python",
   "pygments_lexer": "ipython3",
   "version": "3.7.0"
  }
 },
 "nbformat": 4,
 "nbformat_minor": 2
}
