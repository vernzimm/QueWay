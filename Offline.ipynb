{
 "cells": [
  {
   "cell_type": "code",
   "execution_count": null,
   "metadata": {},
   "outputs": [],
   "source": [
    "#QueWay responder for offline testing\n",
    "\n",
    "import os\n",
    "import time\n",
    "import pandas as pd\n",
    "import numpy as np\n",
    "\n",
    "rask = qwdir + 'REMOTE.ASK'\n",
    "rans = qwdir + 'REMOTE.ANS'\n",
    "rmsg = qwdir + 'REMOTE.MSG'\n",
    "spcdir = qwdir + 'OUT\\spc.txt'\n",
    "ddir = qwdir + 'debug.txt'\n",
    "\n",
    "proglistnames = ['program','base_path','folder','img']\n",
    "proglist = pd.DataFrame(columns = proglistnames)\n",
    "spcdata = pd.DataFrame(columns = spcnames)\n",
    "\n",
    "os.system(\"python ./RMFunc.py\")\n",
    "from RMFunc import *\n",
    "os.system(\"python ./MiscFunc.py\")\n",
    "from MiscFunc import *"
   ]
  },
  {
   "cell_type": "code",
   "execution_count": null,
   "metadata": {},
   "outputs": [],
   "source": [
    "status = ''\n",
    "\n",
    "def wait_loop() :\n",
    "    \n",
    "    if status == '' :\n",
    "        \n",
    "    \n",
    "    wait_loop()"
   ]
  }
 ],
 "metadata": {
  "kernelspec": {
   "display_name": "Python 3",
   "language": "python",
   "name": "python3"
  },
  "language_info": {
   "codemirror_mode": {
    "name": "ipython",
    "version": 3
   },
   "file_extension": ".py",
   "mimetype": "text/x-python",
   "name": "python",
   "nbconvert_exporter": "python",
   "pygments_lexer": "ipython3",
   "version": "3.7.0"
  }
 },
 "nbformat": 4,
 "nbformat_minor": 2
}
